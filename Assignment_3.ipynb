{
 "cells": [
  {
   "cell_type": "code",
   "execution_count": 1,
   "id": "3e34477a",
   "metadata": {},
   "outputs": [],
   "source": [
    "# assignment_url = \"https://github.com/jeffheaton/t81_558_deep_learning/blob/master/assignments/assignment_yourname_class3.ipynb\"\n",
    "dataset = \"https://data.heatonresearch.com/data/t81-558/datasets/series-31.csv\""
   ]
  },
  {
   "cell_type": "code",
   "execution_count": 2,
   "id": "dbdef98f",
   "metadata": {},
   "outputs": [],
   "source": [
    "import pandas as pd\n",
    "df = pd.read_csv(dataset, parse_dates=True)"
   ]
  },
  {
   "cell_type": "code",
   "execution_count": 3,
   "id": "d5dafa46",
   "metadata": {
    "scrolled": false
   },
   "outputs": [
    {
     "data": {
      "text/html": [
       "<div>\n",
       "<style scoped>\n",
       "    .dataframe tbody tr th:only-of-type {\n",
       "        vertical-align: middle;\n",
       "    }\n",
       "\n",
       "    .dataframe tbody tr th {\n",
       "        vertical-align: top;\n",
       "    }\n",
       "\n",
       "    .dataframe thead th {\n",
       "        text-align: right;\n",
       "    }\n",
       "</style>\n",
       "<table border=\"1\" class=\"dataframe\">\n",
       "  <thead>\n",
       "    <tr style=\"text-align: right;\">\n",
       "      <th></th>\n",
       "      <th>time</th>\n",
       "      <th>value</th>\n",
       "    </tr>\n",
       "  </thead>\n",
       "  <tbody>\n",
       "    <tr>\n",
       "      <th>0</th>\n",
       "      <td>08-22-2019 12:51</td>\n",
       "      <td>19.195359</td>\n",
       "    </tr>\n",
       "    <tr>\n",
       "      <th>1</th>\n",
       "      <td>09-19-2019 09:44</td>\n",
       "      <td>13.519543</td>\n",
       "    </tr>\n",
       "    <tr>\n",
       "      <th>2</th>\n",
       "      <td>08-26-2019 14:05</td>\n",
       "      <td>9.191413</td>\n",
       "    </tr>\n",
       "    <tr>\n",
       "      <th>3</th>\n",
       "      <td>08-19-2019 16:37</td>\n",
       "      <td>18.346598</td>\n",
       "    </tr>\n",
       "    <tr>\n",
       "      <th>4</th>\n",
       "      <td>09-05-2019 09:18</td>\n",
       "      <td>1.349778</td>\n",
       "    </tr>\n",
       "    <tr>\n",
       "      <th>...</th>\n",
       "      <td>...</td>\n",
       "      <td>...</td>\n",
       "    </tr>\n",
       "    <tr>\n",
       "      <th>13495</th>\n",
       "      <td>09-09-2019 12:50</td>\n",
       "      <td>19.046697</td>\n",
       "    </tr>\n",
       "    <tr>\n",
       "      <th>13496</th>\n",
       "      <td>09-09-2019 10:00</td>\n",
       "      <td>17.984843</td>\n",
       "    </tr>\n",
       "    <tr>\n",
       "      <th>13497</th>\n",
       "      <td>09-18-2019 14:16</td>\n",
       "      <td>15.827774</td>\n",
       "    </tr>\n",
       "    <tr>\n",
       "      <th>13498</th>\n",
       "      <td>09-19-2019 16:16</td>\n",
       "      <td>13.070049</td>\n",
       "    </tr>\n",
       "    <tr>\n",
       "      <th>13499</th>\n",
       "      <td>09-06-2019 10:13</td>\n",
       "      <td>0.594764</td>\n",
       "    </tr>\n",
       "  </tbody>\n",
       "</table>\n",
       "<p>13500 rows × 2 columns</p>\n",
       "</div>"
      ],
      "text/plain": [
       "                   time      value\n",
       "0      08-22-2019 12:51  19.195359\n",
       "1      09-19-2019 09:44  13.519543\n",
       "2      08-26-2019 14:05   9.191413\n",
       "3      08-19-2019 16:37  18.346598\n",
       "4      09-05-2019 09:18   1.349778\n",
       "...                 ...        ...\n",
       "13495  09-09-2019 12:50  19.046697\n",
       "13496  09-09-2019 10:00  17.984843\n",
       "13497  09-18-2019 14:16  15.827774\n",
       "13498  09-19-2019 16:16  13.070049\n",
       "13499  09-06-2019 10:13   0.594764\n",
       "\n",
       "[13500 rows x 2 columns]"
      ]
     },
     "execution_count": 3,
     "metadata": {},
     "output_type": "execute_result"
    }
   ],
   "source": [
    "df"
   ]
  },
  {
   "cell_type": "code",
   "execution_count": 4,
   "id": "60dc280a",
   "metadata": {},
   "outputs": [],
   "source": [
    "sort_index = df['time'].sort_values().index"
   ]
  },
  {
   "cell_type": "code",
   "execution_count": 5,
   "id": "aab4fed4",
   "metadata": {},
   "outputs": [],
   "source": [
    "df = df.iloc[sort_index]"
   ]
  },
  {
   "cell_type": "code",
   "execution_count": 6,
   "id": "2dabe71a",
   "metadata": {},
   "outputs": [
    {
     "data": {
      "text/html": [
       "<div>\n",
       "<style scoped>\n",
       "    .dataframe tbody tr th:only-of-type {\n",
       "        vertical-align: middle;\n",
       "    }\n",
       "\n",
       "    .dataframe tbody tr th {\n",
       "        vertical-align: top;\n",
       "    }\n",
       "\n",
       "    .dataframe thead th {\n",
       "        text-align: right;\n",
       "    }\n",
       "</style>\n",
       "<table border=\"1\" class=\"dataframe\">\n",
       "  <thead>\n",
       "    <tr style=\"text-align: right;\">\n",
       "      <th></th>\n",
       "      <th>time</th>\n",
       "      <th>value</th>\n",
       "    </tr>\n",
       "  </thead>\n",
       "  <tbody>\n",
       "    <tr>\n",
       "      <th>13344</th>\n",
       "      <td>08-19-2019 09:00</td>\n",
       "      <td>17.573522</td>\n",
       "    </tr>\n",
       "    <tr>\n",
       "      <th>7145</th>\n",
       "      <td>08-19-2019 09:01</td>\n",
       "      <td>17.575387</td>\n",
       "    </tr>\n",
       "    <tr>\n",
       "      <th>5327</th>\n",
       "      <td>08-19-2019 09:02</td>\n",
       "      <td>17.577250</td>\n",
       "    </tr>\n",
       "    <tr>\n",
       "      <th>8489</th>\n",
       "      <td>08-19-2019 09:03</td>\n",
       "      <td>17.579113</td>\n",
       "    </tr>\n",
       "    <tr>\n",
       "      <th>2847</th>\n",
       "      <td>08-19-2019 09:04</td>\n",
       "      <td>17.580975</td>\n",
       "    </tr>\n",
       "    <tr>\n",
       "      <th>...</th>\n",
       "      <td>...</td>\n",
       "      <td>...</td>\n",
       "    </tr>\n",
       "    <tr>\n",
       "      <th>10649</th>\n",
       "      <td>09-20-2019 17:55</td>\n",
       "      <td>13.331853</td>\n",
       "    </tr>\n",
       "    <tr>\n",
       "      <th>4938</th>\n",
       "      <td>09-20-2019 17:56</td>\n",
       "      <td>13.333217</td>\n",
       "    </tr>\n",
       "    <tr>\n",
       "      <th>13143</th>\n",
       "      <td>09-20-2019 17:57</td>\n",
       "      <td>13.334583</td>\n",
       "    </tr>\n",
       "    <tr>\n",
       "      <th>1625</th>\n",
       "      <td>09-20-2019 17:58</td>\n",
       "      <td>13.335951</td>\n",
       "    </tr>\n",
       "    <tr>\n",
       "      <th>2137</th>\n",
       "      <td>09-20-2019 17:59</td>\n",
       "      <td>13.337320</td>\n",
       "    </tr>\n",
       "  </tbody>\n",
       "</table>\n",
       "<p>13500 rows × 2 columns</p>\n",
       "</div>"
      ],
      "text/plain": [
       "                   time      value\n",
       "13344  08-19-2019 09:00  17.573522\n",
       "7145   08-19-2019 09:01  17.575387\n",
       "5327   08-19-2019 09:02  17.577250\n",
       "8489   08-19-2019 09:03  17.579113\n",
       "2847   08-19-2019 09:04  17.580975\n",
       "...                 ...        ...\n",
       "10649  09-20-2019 17:55  13.331853\n",
       "4938   09-20-2019 17:56  13.333217\n",
       "13143  09-20-2019 17:57  13.334583\n",
       "1625   09-20-2019 17:58  13.335951\n",
       "2137   09-20-2019 17:59  13.337320\n",
       "\n",
       "[13500 rows x 2 columns]"
      ]
     },
     "execution_count": 6,
     "metadata": {},
     "output_type": "execute_result"
    }
   ],
   "source": [
    "df"
   ]
  },
  {
   "cell_type": "code",
   "execution_count": 7,
   "id": "ef65645e",
   "metadata": {},
   "outputs": [
    {
     "name": "stderr",
     "output_type": "stream",
     "text": [
      "/tmp/ipykernel_67098/785867113.py:1: SettingWithCopyWarning: \n",
      "A value is trying to be set on a copy of a slice from a DataFrame.\n",
      "Try using .loc[row_indexer,col_indexer] = value instead\n",
      "\n",
      "See the caveats in the documentation: https://pandas.pydata.org/pandas-docs/stable/user_guide/indexing.html#returning-a-view-versus-a-copy\n",
      "  df['date'] = pd.to_datetime(df['time'])\n"
     ]
    }
   ],
   "source": [
    "df['date'] = pd.to_datetime(df['time'])"
   ]
  },
  {
   "cell_type": "code",
   "execution_count": 8,
   "id": "0329fff4",
   "metadata": {
    "scrolled": true
   },
   "outputs": [
    {
     "name": "stderr",
     "output_type": "stream",
     "text": [
      "/tmp/ipykernel_67098/1903410930.py:1: SettingWithCopyWarning: \n",
      "A value is trying to be set on a copy of a slice from a DataFrame.\n",
      "Try using .loc[row_indexer,col_indexer] = value instead\n",
      "\n",
      "See the caveats in the documentation: https://pandas.pydata.org/pandas-docs/stable/user_guide/indexing.html#returning-a-view-versus-a-copy\n",
      "  df['date'] = df['date'].dt.strftime('%Y-%m-%d')\n"
     ]
    }
   ],
   "source": [
    "df['date'] = df['date'].dt.strftime('%Y-%m-%d')"
   ]
  },
  {
   "cell_type": "code",
   "execution_count": 9,
   "id": "00306d24",
   "metadata": {},
   "outputs": [
    {
     "data": {
      "text/plain": [
       "13344    2019-08-19\n",
       "7145     2019-08-19\n",
       "5327     2019-08-19\n",
       "8489     2019-08-19\n",
       "2847     2019-08-19\n",
       "            ...    \n",
       "10649    2019-09-20\n",
       "4938     2019-09-20\n",
       "13143    2019-09-20\n",
       "1625     2019-09-20\n",
       "2137     2019-09-20\n",
       "Name: date, Length: 13500, dtype: object"
      ]
     },
     "execution_count": 9,
     "metadata": {},
     "output_type": "execute_result"
    }
   ],
   "source": [
    "df['date']"
   ]
  },
  {
   "cell_type": "code",
   "execution_count": 10,
   "id": "d4418d24",
   "metadata": {},
   "outputs": [],
   "source": [
    "def dater(date):\n",
    "    row_data = {}\n",
    "    \n",
    "    row_data['starting'] = (df[df['date'] == date].iloc[0]['value'])\n",
    "    row_data['max'] = (df[df['date'] == date].iloc[-1]['value'])\n",
    "    row_data['min'] = (df[df['date'] == date].value.min())\n",
    "    row_data['ending'] = (df[df['date'] == date].value.max())\n",
    "    \n",
    "    return row_data"
   ]
  },
  {
   "cell_type": "code",
   "execution_count": 11,
   "id": "3df89af4",
   "metadata": {
    "scrolled": true
   },
   "outputs": [
    {
     "data": {
      "text/plain": [
       "{'starting': 17.573522079229534,\n",
       " 'max': 18.468834970992383,\n",
       " 'min': 17.573522079229534,\n",
       " 'ending': 18.468834970992383}"
      ]
     },
     "execution_count": 11,
     "metadata": {},
     "output_type": "execute_result"
    }
   ],
   "source": [
    "dater('2019-08-19')"
   ]
  },
  {
   "cell_type": "code",
   "execution_count": null,
   "id": "1b186720",
   "metadata": {
    "scrolled": true
   },
   "outputs": [],
   "source": [
    "dates = df.groupby('date').mean().index"
   ]
  },
  {
   "cell_type": "code",
   "execution_count": null,
   "id": "3e265c72",
   "metadata": {},
   "outputs": [],
   "source": [
    "data_dict = {starting': [], 'max': [], 'min': [], 'ending': []}\n",
    "for i in dates:\n",
    "    data = dater(i)\n",
    "    \n",
    "    data_dict['starting'].append(data['starting'])\n",
    "    data_dict['max'].append(data['max'])    \n",
    "    data_dict['min'].append(data['min'])    \n",
    "    data_dict['ending'].append(data['ending'])    "
   ]
  },
  {
   "cell_type": "code",
   "execution_count": null,
   "id": "7c40ba6e",
   "metadata": {},
   "outputs": [],
   "source": [
    "pd.DataFrame(data=data_dict, index=dates)"
   ]
  },
  {
   "cell_type": "code",
   "execution_count": null,
   "id": "be46492c",
   "metadata": {},
   "outputs": [],
   "source": [
    "df2"
   ]
  },
  {
   "cell_type": "code",
   "execution_count": null,
   "id": "27459578",
   "metadata": {},
   "outputs": [],
   "source": []
  }
 ],
 "metadata": {
  "kernelspec": {
   "display_name": "Python 3 (ipykernel)",
   "language": "python",
   "name": "python3"
  },
  "language_info": {
   "codemirror_mode": {
    "name": "ipython",
    "version": 3
   },
   "file_extension": ".py",
   "mimetype": "text/x-python",
   "name": "python",
   "nbconvert_exporter": "python",
   "pygments_lexer": "ipython3",
   "version": "3.10.6"
  }
 },
 "nbformat": 4,
 "nbformat_minor": 5
}
